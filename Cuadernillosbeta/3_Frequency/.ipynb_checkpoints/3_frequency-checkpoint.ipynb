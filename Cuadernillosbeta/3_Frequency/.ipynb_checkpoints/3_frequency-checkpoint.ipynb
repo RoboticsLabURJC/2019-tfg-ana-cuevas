{
 "cells": [
  {
   "cell_type": "markdown",
   "metadata": {},
   "source": [
    "<center><h1>Filtering images on the frequency spectrum</h1></center>"
   ]
  },
  {
   "cell_type": "markdown",
   "metadata": {},
   "source": [
    "In this exercise we will be looking at what it means to work with an image in the frequency spectrum. For this you need to understand how the Fourier transform works and what  frequency means in an image. For some information about the theory behind this excercise check the next [link](https://homepages.inf.ed.ac.uk/rbf/HIPR2/fourier.htm).\n",
    "\n",
    " This exercise we will be working with three really basic images to make it easier to ilustrate what the theory says:\n",
    "\n",
    "- The image 'triangulo.bmp'\n",
    "- 'triangulodesp.bmp' which is the same image as the first but the triangle represented in the image has been moved.\n",
    "- 'triangulozoom.bmp', the original imaged zoomed out\n",
    "- 'triangulogirado.bmp', the origu¡inal but rotated\n",
    "\n",
    "We will also be working with some functions that come with the exercise, lpfilter.py and surface_plot.py, make sure those files are in the same directory as this notebook."
   ]
  },
  {
   "cell_type": "code",
   "execution_count": 1,
   "metadata": {},
   "outputs": [],
   "source": [
    "import cv2\n",
    "import numpy as np\n",
    "from matplotlib import pyplot as plt\n",
    "import lpfilter as lp\n",
    "import surface_plot as sp\n",
    "%matplotlib notebook"
   ]
  },
  {
   "cell_type": "markdown",
   "metadata": {},
   "source": [
    "**I. Displaying the image in the frequency spectrum**\n",
    "\n",
    "Using the function for the [fast fourier transform](https://numpy.org/doc/stable/reference/generated/numpy.fft.fft2.html) we will be taking the image 'triangulo.bmp' from the spatial to the frequency domain.\n",
    "\n",
    "The output of the fft2 is a matrix the same size as the original image with complex numbers. We can't visualize complex numbers so the best option is to display the real (module) and the complex (angle) parts as separate images.\n",
    "\n",
    "Display the original image, the module and angle of the fourier transform.\n"
   ]
  },
  {
   "cell_type": "code",
   "execution_count": null,
   "metadata": {},
   "outputs": [],
   "source": []
  },
  {
   "cell_type": "markdown",
   "metadata": {},
   "source": [
    "To see the module better here is the code to display it in a 3d graph(remember to change the variable names)"
   ]
  },
  {
   "cell_type": "code",
   "execution_count": 2,
   "metadata": {},
   "outputs": [
    {
     "ename": "NameError",
     "evalue": "name 'f_mod_ns' is not defined",
     "output_type": "error",
     "traceback": [
      "\u001b[1;31m---------------------------------------------------------------------------\u001b[0m",
      "\u001b[1;31mNameError\u001b[0m                                 Traceback (most recent call last)",
      "\u001b[1;32m<ipython-input-2-8fe40c903234>\u001b[0m in \u001b[0;36m<module>\u001b[1;34m\u001b[0m\n\u001b[1;32m----> 1\u001b[1;33m \u001b[1;33m(\u001b[0m\u001b[0mfig\u001b[0m\u001b[1;33m,\u001b[0m \u001b[0max\u001b[0m\u001b[1;33m,\u001b[0m \u001b[0msurf\u001b[0m\u001b[1;33m)\u001b[0m \u001b[1;33m=\u001b[0m \u001b[0msp\u001b[0m\u001b[1;33m.\u001b[0m\u001b[0msurface_plot\u001b[0m\u001b[1;33m(\u001b[0m\u001b[0mf_mod_ns\u001b[0m\u001b[1;33m,\u001b[0m \u001b[0mcmap\u001b[0m\u001b[1;33m=\u001b[0m\u001b[0mplt\u001b[0m\u001b[1;33m.\u001b[0m\u001b[0mcm\u001b[0m\u001b[1;33m.\u001b[0m\u001b[0mcoolwarm\u001b[0m\u001b[1;33m)\u001b[0m\u001b[1;33m\u001b[0m\u001b[1;33m\u001b[0m\u001b[0m\n\u001b[0m\u001b[0;32m      2\u001b[0m \u001b[1;33m\u001b[0m\u001b[0m\n\u001b[0;32m      3\u001b[0m \u001b[0mfig\u001b[0m\u001b[1;33m.\u001b[0m\u001b[0mcolorbar\u001b[0m\u001b[1;33m(\u001b[0m\u001b[0msurf\u001b[0m\u001b[1;33m)\u001b[0m\u001b[1;33m\u001b[0m\u001b[1;33m\u001b[0m\u001b[0m\n\u001b[0;32m      4\u001b[0m \u001b[1;33m\u001b[0m\u001b[0m\n\u001b[0;32m      5\u001b[0m \u001b[0max\u001b[0m\u001b[1;33m.\u001b[0m\u001b[0mset_xlabel\u001b[0m\u001b[1;33m(\u001b[0m\u001b[1;34m'X (cols)'\u001b[0m\u001b[1;33m)\u001b[0m\u001b[1;33m\u001b[0m\u001b[1;33m\u001b[0m\u001b[0m\n",
      "\u001b[1;31mNameError\u001b[0m: name 'f_mod_ns' is not defined"
     ]
    }
   ],
   "source": [
    "(fig, ax, surf) = sp.surface_plot(f_mod_ns, cmap=plt.cm.coolwarm)\n",
    "\n",
    "fig.colorbar(surf)\n",
    "\n",
    "ax.set_xlabel('X (cols)')\n",
    "ax.set_ylabel('Y (rows)')\n",
    "ax.set_zlabel('Z (values)')\n",
    "\n",
    "plt.show()"
   ]
  },
  {
   "cell_type": "markdown",
   "metadata": {},
   "source": [
    "When we represent the module in the frequency spectrum the low frequencies are in the corners while the high frequencies are in the center of the image, this is not very intuitive and can make it harder to understand. the funtion [np.fft.fftshift](https://numpy.org/doc/stable/reference/generated/numpy.fft.fftshift.html) transforms the image so the low frequencies are in the center and the high frequencies in the corners. \n",
    "Use fftshift on the fourier transform o 'triangle.bmp', represent the resulting module and angle.\n",
    "To make it easier to see the details of the module apply a logarithmic transformation over it:\n",
    "<code>f_log = np.log(f_mod+ 1)</code>\n",
    "\n",
    "Display the original image, the shifted module and angle and the logarithm of the module.\n",
    "\n",
    "[answer cell](#displayshift)"
   ]
  },
  {
   "cell_type": "code",
   "execution_count": null,
   "metadata": {},
   "outputs": [],
   "source": [
    "#shift here"
   ]
  },
  {
   "cell_type": "code",
   "execution_count": null,
   "metadata": {
    "scrolled": false
   },
   "outputs": [],
   "source": [
    "#display code here"
   ]
  },
  {
   "cell_type": "markdown",
   "metadata": {},
   "source": [
    "**II. Properties of the fourier transform**\n",
    "\n",
    "The objective of this segment is to ilustrate how changes in an image reflect on the frequency plane.\n",
    "\n",
    "1. Display the image 'triangulodesp.bmp', its module and angle. Compre them to the original triangle, how does moving the triangle affect the module and angle of the image?"
   ]
  },
  {
   "cell_type": "code",
   "execution_count": null,
   "metadata": {},
   "outputs": [],
   "source": []
  },
  {
   "cell_type": "markdown",
   "metadata": {},
   "source": [
    "2. Do the same with the image 'triangulo zoom.bmp'"
   ]
  },
  {
   "cell_type": "code",
   "execution_count": null,
   "metadata": {},
   "outputs": [],
   "source": []
  },
  {
   "cell_type": "markdown",
   "metadata": {},
   "source": [
    "3. Repeat for 'triangulogirado.bmp'"
   ]
  },
  {
   "cell_type": "code",
   "execution_count": null,
   "metadata": {},
   "outputs": [],
   "source": []
  },
  {
   "cell_type": "markdown",
   "metadata": {},
   "source": [
    "Looking at the images, cand you justify why some transformations affect the module while others affect the angle using the theory?"
   ]
  },
  {
   "cell_type": "markdown",
   "metadata": {},
   "source": [
    "**III. Low Pass filters**\n",
    "\n",
    "Now we will be looknig at two different low pass filters, the ideal filter and the gaussian filter. \n",
    "An ideal filter has a value of 1 on all frequencies under Do, and 0 an all other frequencies\n",
    "The gaussian filter follows the gaussian distribution to form the bell (when the low frequencies are represented in the center).\n",
    "\n",
    "Use the function lpfilter from the given script to generate 6 filters, 3 ideal filters with Do values of 10, 30 and 50 and three Gaussian filters with the same values Do. The function returns a matrix with values between 0 and 1. \n",
    "\n",
    "- Display in a 3D graph the gaussian filter with Do=30, do the same for the ideal filter.\n",
    "\n",
    "[answer cell](#lpfilters)"
   ]
  },
  {
   "cell_type": "code",
   "execution_count": null,
   "metadata": {},
   "outputs": [],
   "source": [
    "#filter here"
   ]
  },
  {
   "cell_type": "code",
   "execution_count": null,
   "metadata": {},
   "outputs": [],
   "source": [
    "#display here"
   ]
  },
  {
   "cell_type": "markdown",
   "metadata": {},
   "source": [
    "- Now filter the image 'triangle.bmp' with the ideal filter. \n",
    "\n",
    "To filter an image in space you would use convolution, but in the frequency domain a convolutionis a multiplication, so to filter the imge multiply it's fourier transform by the filter (remember to use [np.multiply](https://numpy.org/doc/stable/reference/generated/numpy.multiply.html), repeat for each of the sizes of the filter. \n",
    "\n",
    "Use the [inverse fast fourier transform](https://numpy.org/doc/stable/reference/generated/numpy.fft.ifft2.html) to go from frequency to space and display them to see the effect of the filter."
   ]
  },
  {
   "cell_type": "code",
   "execution_count": null,
   "metadata": {},
   "outputs": [],
   "source": [
    "#filter here\n"
   ]
  },
  {
   "cell_type": "code",
   "execution_count": null,
   "metadata": {},
   "outputs": [],
   "source": [
    "#display here"
   ]
  },
  {
   "cell_type": "markdown",
   "metadata": {},
   "source": [
    "- Repeat last section with the Gaussian filter"
   ]
  },
  {
   "cell_type": "code",
   "execution_count": null,
   "metadata": {},
   "outputs": [],
   "source": []
  },
  {
   "cell_type": "code",
   "execution_count": null,
   "metadata": {},
   "outputs": [],
   "source": []
  },
  {
   "cell_type": "markdown",
   "metadata": {},
   "source": [
    "Compare the results of the two fiters. Can you explain the ondulation effects caused by the ideal filter?\n",
    "\n",
    "[answer cell](#lpfilterstriangle)"
   ]
  },
  {
   "cell_type": "markdown",
   "metadata": {},
   "source": [
    "IV. Filtrado Paso Alto en el dominio frecuencial\n",
    "\n",
    "Justifique de manera teórica qué esperaría obtener al aplicar un filtro paso alto a la imagen\n",
    "'triangulo.bmp'. Explique detalladamente cómo debería ser el módulo de la imagen resultante.\n",
    "Haga uso de la función lpfilter del apartado anterior para diseñar en el dominio frecuencial un\n",
    "filtro paso alto ideal y otro filtro paso alto con transiciones suaves en la banda de paso. Considere\n",
    "D0 = 100 en ambos casos. Realice el filtrado de la imagen 'triangulo.bmp' con los dos filtros\n",
    "anteriores y almacene en las variables FPA_ideal y FPA_gauss las imágenes filtradas en el dominio\n",
    "espacial. Anote la secuencia de comandos utilizada para realizar los dos filtrados."
   ]
  },
  {
   "cell_type": "markdown",
   "metadata": {},
   "source": [
    "**IV. High pass filter**\n",
    "\n",
    "A high pass filter can be seen as an inverted low pass filter, that's why to create a high pass filter we will be using the function lpfilter with Do= 100, this gives us a very wide low pass filter, to go from this to a high pass we have to invert it, turn the zeroes into ones and the ones into zeroes, keep in mind that we need al thel numbers in the filter to be positive.\n",
    "Create an ideal and a gaussian high pass filter, display them as 3d graphs."
   ]
  },
  {
   "cell_type": "code",
   "execution_count": null,
   "metadata": {},
   "outputs": [],
   "source": []
  },
  {
   "cell_type": "markdown",
   "metadata": {},
   "source": [
    "Now filter the image 'triangulo.bmp' the same way you did with the low pass filter. And display the results.\n",
    "\n",
    "[answer cell](#hptriangle)"
   ]
  },
  {
   "cell_type": "code",
   "execution_count": null,
   "metadata": {},
   "outputs": [],
   "source": []
  },
  {
   "cell_type": "code",
   "execution_count": null,
   "metadata": {},
   "outputs": [],
   "source": []
  },
  {
   "cell_type": "markdown",
   "metadata": {},
   "source": [
    "The result is not as polished as the theory says, to see why it may be usefull to check out the 3d representations of the filtered images. Can you understand where the problem comes from?"
   ]
  },
  {
   "cell_type": "code",
   "execution_count": null,
   "metadata": {},
   "outputs": [],
   "source": []
  },
  {
   "cell_type": "markdown",
   "metadata": {},
   "source": [
    "To get a better result get a binary image of the filtered images choose the threshold so the pixels associated with a change in intensity have a value of one, display the resulting images. Which filter gives a better result, ideal or gaussian?\n",
    "\n",
    "[answer cell](#betterhp)"
   ]
  },
  {
   "cell_type": "code",
   "execution_count": null,
   "metadata": {},
   "outputs": [],
   "source": []
  },
  {
   "cell_type": "code",
   "execution_count": null,
   "metadata": {},
   "outputs": [],
   "source": []
  },
  {
   "cell_type": "markdown",
   "metadata": {},
   "source": [
    "<h2>Cells with the answer images</h2>"
   ]
  },
  {
   "cell_type": "markdown",
   "metadata": {},
   "source": [
    "Displaying the image in the frequency spectrum\n",
    "\n",
    "<a id='displayshift'></a>\n",
    "\n",
    "![displayshift](answerimages/displayshift.PNG)\n"
   ]
  },
  {
   "cell_type": "markdown",
   "metadata": {},
   "source": [
    "Low pass filters\n",
    "\n",
    "<a id='lpfilters'></a>\n",
    "\n",
    "![gaussian](answerimages/gaussian.PNG)\n",
    "![ideal](answerimages/ideal.PNG)\n"
   ]
  },
  {
   "cell_type": "markdown",
   "metadata": {},
   "source": [
    "Applying low pass filters\n",
    "\n",
    "<a id='lpfiltertriangle'></a>\n",
    "\n",
    "![lpideal](answerimages/lpideal.PNG)\n",
    "![lpgaussian](answerimages/lpgaussian.PNG)"
   ]
  },
  {
   "cell_type": "markdown",
   "metadata": {},
   "source": [
    "High pass filter\n",
    "\n",
    "<a id='hptriangle'></a>\n",
    "\n",
    "![hpfilter](answerimages/hpfilter.PNG)"
   ]
  },
  {
   "cell_type": "markdown",
   "metadata": {},
   "source": [
    "Improved high pass\n",
    "<a id='betterhp'></a>\n",
    "\n",
    "![betterhp](answerimages/betterhp.PNG)"
   ]
  },
  {
   "cell_type": "code",
   "execution_count": null,
   "metadata": {},
   "outputs": [],
   "source": []
  }
 ],
 "metadata": {
  "kernelspec": {
   "display_name": "Python 3",
   "language": "python",
   "name": "python3"
  },
  "language_info": {
   "codemirror_mode": {
    "name": "ipython",
    "version": 3
   },
   "file_extension": ".py",
   "mimetype": "text/x-python",
   "name": "python",
   "nbconvert_exporter": "python",
   "pygments_lexer": "ipython3",
   "version": "3.7.4"
  }
 },
 "nbformat": 4,
 "nbformat_minor": 2
}
