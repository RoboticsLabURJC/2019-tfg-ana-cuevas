{
 "cells": [
  {
   "cell_type": "markdown",
   "metadata": {},
   "source": [
    "# <center>Exercise 5</center>\n",
    "## <center>Segmentation II</center>"
   ]
  },
  {
   "cell_type": "markdown",
   "metadata": {},
   "source": [
    "In this exercise we will be using some methods of feature extraction to aid in the segmentation using unsupervised machine learning, specifically the algorithm k-means. We will be using the image 'cormoran.jpg'."
   ]
  },
  {
   "cell_type": "code",
   "execution_count": 1,
   "metadata": {},
   "outputs": [],
   "source": [
    "#importamos librerías necesarias\n",
    "import numpy as np\n",
    "import cv2\n",
    "import matplotlib.pyplot as plt\n",
    "from mpl_toolkits.mplot3d import Axes3D\n",
    "from sklearn.cluster import KMeans\n",
    "\n",
    "import texturefilters as tf"
   ]
  },
  {
   "cell_type": "markdown",
   "metadata": {},
   "source": [
    "https://scikit-learn.org/stable/about.html#citing-scikit-learn \n",
    "    \n",
    "citation"
   ]
  },
  {
   "cell_type": "markdown",
   "metadata": {},
   "source": [
    "1. Visual analysis of the image\n",
    "\n",
    "Read and display the image 'cormoran.jpg'. What are the three distinct objects in the image? What characteristic best differentiates them?"
   ]
  },
  {
   "cell_type": "code",
   "execution_count": null,
   "metadata": {},
   "outputs": [],
   "source": []
  },
  {
   "cell_type": "markdown",
   "metadata": {},
   "source": [
    "Turn the image into gray scale and display its histogram? Could you use thresholding to separate the different objects in the image?"
   ]
  },
  {
   "cell_type": "code",
   "execution_count": null,
   "metadata": {},
   "outputs": [],
   "source": []
  },
  {
   "cell_type": "markdown",
   "metadata": {},
   "source": [
    "2. RGB characteristics and k-means\n",
    "\n",
    "In this section we will try to use the different color components of the RGB image as characteristics for segmentation.\n",
    "\n",
    "- First split the channels of the image"
   ]
  },
  {
   "cell_type": "code",
   "execution_count": null,
   "metadata": {},
   "outputs": [],
   "source": []
  },
  {
   "cell_type": "markdown",
   "metadata": {},
   "source": [
    "- Turn each channel into a vector of size (nrows*ncols, 1) using the function [np.reshape](https://numpy.org/doc/stable/reference/generated/numpy.reshape.html)."
   ]
  },
  {
   "cell_type": "code",
   "execution_count": null,
   "metadata": {},
   "outputs": [],
   "source": []
  },
  {
   "cell_type": "markdown",
   "metadata": {},
   "source": [
    "- Display in a 3d scatter plot all the data from the 3 vectors, can you see any distict group?\n",
    "\n",
    "[Here](https://matplotlib.org/3.1.1/gallery/mplot3d/scatter3d.html) is the documentation on 3d scatter plot. \n"
   ]
  },
  {
   "cell_type": "code",
   "execution_count": null,
   "metadata": {},
   "outputs": [],
   "source": []
  },
  {
   "cell_type": "markdown",
   "metadata": {},
   "source": [
    "The space we displayed in the las segment is where we will apply [k-means](https://team.inria.fr/steep/files/2015/03/tp51.pdf). Since we have three objects we will use k = 3, that means we will have 3 randomized centroids.\n",
    "\n",
    "To implement this algorithm we will be using [Kmeans](https://scikit-learn.org/stable/modules/generated/sklearn.cluster.KMeans.html) from sklearn.cluster, it should be in the cell with the imported libraries. We will be using the method fit_predict which asigns a label to each pixel according to the cluster assigned to them.\n",
    "\n",
    "Fisrt concatenate the three vectors of the different components, you should get a matriz of size (nrows* ncols, 3). We will be using two commands to make it easier, the code should look like this:\n",
    "\n",
    "<code>kmeans = KMeans()\n",
    "prediction = kmeans.fit_predict()\n",
    "</code>\n",
    "\n",
    "In KMeans leave every value as its default except the number of clusters. The input for fit_predict should be the matrix with the concatenated vectors.\n",
    "\n",
    "Now we will display scatter plot from last section adding the centroids in their positions after applying the algorithm. To access the positions of the cluster centers use the method kmeans.cluster_centers, the output of this method is an array with the coordinates of each center. \n",
    "\n",
    "<code>First_cluster = kmeans.cluster_centers_[:, 0]\n",
    "</code>\n",
    "\n",
    "In the scatter plot, paint the dots representing the centers a different color and make them bigger so they are easier to spot."
   ]
  },
  {
   "cell_type": "code",
   "execution_count": null,
   "metadata": {},
   "outputs": [],
   "source": []
  },
  {
   "cell_type": "markdown",
   "metadata": {},
   "source": [
    "To see the actual segmentation of the image we will use the method kmeans.labels_, this creates a vectors size (nrows* ncols, 1) with the number of the cluster assigned to each pixel in the image. To display it as an image in false color (as we did in the last exercise with the labeled image) we have to return this vector to the original shape of the image.\n",
    "\n",
    "Now display this labeled image, no colormap necessary."
   ]
  },
  {
   "cell_type": "code",
   "execution_count": null,
   "metadata": {},
   "outputs": [],
   "source": []
  },
  {
   "cell_type": "markdown",
   "metadata": {},
   "source": [
    "3. ab chromatic characteristics\n",
    "\n",
    "In RGB the color information is distributed along the three components, in other color representations this is not the case, the chromatic and achromatic information are separate. For this section we will be using the [Lab](https://www.xrite.com/blog/lab-color-space) space where the L represents the achromatic information (lightnes) and ab the chromatic information. We will be applying kmean over the chromatic components. \n",
    "\n",
    "First use cvtcolor to change color space (cv2.COLOR_RGB2LAB). Now like we did previously with the RGB components split them and reshape the ab components into two vectors of shape (nrows* ncols, 1). Display this two vectors as a 2d scatterplot."
   ]
  },
  {
   "cell_type": "code",
   "execution_count": null,
   "metadata": {},
   "outputs": [],
   "source": []
  },
  {
   "cell_type": "markdown",
   "metadata": {},
   "source": [
    "Apply kmeans over this new space, display the scatterplot with the new clusters and the segmented image. Can you appreciate any difference between the segmentation in this segement and the segmentation in segment 2? Does any of the components (ab) have more weight in the position of the centroids?"
   ]
  },
  {
   "cell_type": "code",
   "execution_count": null,
   "metadata": {},
   "outputs": [],
   "source": []
  },
  {
   "cell_type": "code",
   "execution_count": null,
   "metadata": {},
   "outputs": [],
   "source": []
  },
  {
   "cell_type": "markdown",
   "metadata": {},
   "source": [
    "To stop one component from weighting more when calculating the distances beacuse of its wider range we are going to normalize the components. This new matrx will be called ab_norm. Look at the given code and try to understand the process of normalization:\n",
    "\n",
    "<code>ab_res =np.concatenate((L_a_res, L_b_res), axis=1)\n",
    "\n",
    "[x, ndim]= ab_res.shape\n",
    "ab_norm = ab_res\n",
    "ab_norm = ab_norm.astype(np.float64)\n",
    "for ind in range (0, ndim):\n",
    "    datos = ab_res[:,ind]\n",
    "    datos_norm = (datos- np.mean(datos))/np.std(datos)\n",
    "    ab_norm[:,ind] = datos_norm   \n",
    "    \n",
    "L_a_norm = ab_norm[:, 0]\n",
    "L_b_norm = ab_norm[:, 1]\n",
    "</code>\n",
    "\n",
    "Once you understand the process copy it changing the variable names for your own.\n",
    "Display the new characteristic vectors in an scatter plot."
   ]
  },
  {
   "cell_type": "code",
   "execution_count": null,
   "metadata": {},
   "outputs": [],
   "source": []
  },
  {
   "cell_type": "markdown",
   "metadata": {},
   "source": []
  }
 ],
 "metadata": {
  "kernelspec": {
   "display_name": "Python 3",
   "language": "python",
   "name": "python3"
  },
  "language_info": {
   "codemirror_mode": {
    "name": "ipython",
    "version": 3
   },
   "file_extension": ".py",
   "mimetype": "text/x-python",
   "name": "python",
   "nbconvert_exporter": "python",
   "pygments_lexer": "ipython3",
   "version": "3.7.4"
  }
 },
 "nbformat": 4,
 "nbformat_minor": 2
}
